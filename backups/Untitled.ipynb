{
 "cells": [
  {
   "cell_type": "code",
   "execution_count": 1,
   "metadata": {},
   "outputs": [],
   "source": [
    "import pandas as pd\n",
    "import numpy as np\n",
    "from pandas import ExcelFile\n",
    "from pandas import ExcelWriter\n",
    "import urllib.request\n",
    "import requests, zipfile, io\n",
    "\n",
    "#Writing files to C:\\Alan Python\\IC_wellheaders\\core_photo_jpgs"
   ]
  },
  {
   "cell_type": "code",
   "execution_count": 3,
   "metadata": {},
   "outputs": [
    {
     "name": "stdout",
     "output_type": "stream",
     "text": [
      "3.6.5\n"
     ]
    },
    {
     "data": {
      "text/plain": [
       "'C:\\\\Users\\\\LBHAWZ\\\\AppData\\\\Local\\\\Continuum\\\\anaconda3\\\\python.exe'"
      ]
     },
     "execution_count": 3,
     "metadata": {},
     "output_type": "execute_result"
    }
   ],
   "source": [
    "from platform import python_version\n",
    "\n",
    "print(python_version())\n",
    "\n",
    "import sys\n",
    "sys.executable"
   ]
  },
  {
   "cell_type": "code",
   "execution_count": 5,
   "metadata": {},
   "outputs": [
    {
     "name": "stdout",
     "output_type": "stream",
     "text": [
      "\n",
      "Exploration well header column titles:\n",
      "['Wellbore name', 'Well name', 'Drilling operator', 'Drilled in production licence', 'Purpose', 'Status', 'Content', 'Type', 'Subsea', 'Entered date', 'Completed date', 'Field', 'Drill permit', 'Discovery', 'Discovery wellbore', 'Bottom hole temperature [°C]', 'Sitesurvey', 'Seismic location', 'Maximum inclination [°]', 'Kelly bushing elevation [m]', 'Final vertical depth (TVD) [m RKB]', 'Total depth (MD) [m RKB]', 'Water depth [m]', 'Kick off  point [m RKB]', 'Oldest penetrated age', 'Oldest penetrated formation', 'Main area', 'Drilling facility', 'Drilling facility type', 'Drilling facility category', 'Licensing activity awarded in', 'Multilateral', 'Purpose - planned', 'Entry year', 'Completed year', 'Reclassified from/to wellbore', 'Reentry activity', 'Plot symbol', '1st level with HC, formation', '1st level with HC, age', '2nd level with HC, formation', '2nd level with HC, age', '3rd level with HC, formation', '3rd level with HC, age', 'Drilling days', 'Reentry', 'Prod. licence for drilling target', 'Plugged and abondon date', 'Plugged date', 'Geodetic datum', 'NS degrees', 'NS minutes', 'NS seconds', 'NS code', 'EW degrees', 'EW minutes', 'EW seconds', 'EW code', 'NS decimal degrees', 'EW decimal degrees', 'NS UTM [m]', 'EW UTM [m]', 'UTM zone', 'Wellbore name, part 1', 'Wellbore name, part 2', 'Wellbore name, part 3', 'Wellbore name, part 4', 'Wellbore name, part 5', 'Wellbore name, part 6', 'Pressrelease url', 'FactPage url', 'Factmaps', 'DISKOS Well Type', 'DISKOS Wellbore Parent', 'Publication date', 'Release date', 'Reclassified date', 'NPDID wellbore', 'NPDID discovery', 'NPDID field', 'NPDID drilling facility', 'NPDID wellbore reclassified from', 'NPDID production licence drilled in', 'NPDID site survey', 'Date main level updated', 'Date all updated', 'Date sync NPD']\n",
      "\n",
      "Development well header column titles:\n",
      "['Wellbore name', 'Well name', 'Drilling operator', 'Drilled in production licence', 'Status', 'Purpose', 'Purpose - planned', 'Content', 'Type', 'Subsea', 'Entered date', 'Completed date', 'Predrilled entry date', 'Predrilled completion date', 'Field', 'Drill permit', 'Discovery', 'Discovery wellbore', 'Kelly bushing elevation [m]', 'Final vertical depth (TVD) [m RKB]', 'Total depth (MD) [m RKB]', 'Water depth [m]', 'Kick off  point [m RKB]', 'Main area', 'Drilling facility', 'Drilling facility type', 'Drilling facility category', 'Production facility', 'Licensing activity awarded in', 'Multilateral', 'Content - planned', 'Entry year', 'Completed year', 'Reclassified from/to wellbore', 'Plugged and abondon date', 'Plugged date', 'Prod. licence for drilling target', 'Plot symbol', 'Geodetic datum', 'NS degrees', 'NS minutes', 'NS seconds', 'NS code', 'EW degrees', 'EW minutes', 'EW seconds', 'EW code', 'NS decimal degrees', 'EW decimal degrees', 'NS UTM [m]', 'EW UTM [m]', 'UTM zone', 'Wellbore name, part 1', 'Wellbore name, part 2', 'Wellbore name, part 3', 'Wellbore name, part 4', 'Wellbore name, part 5', 'Wellbore name, part 6', 'FactPage url', 'Factmaps', 'DISKOS Well Type', 'DISKOS Wellbore Parent', 'NPDID wellbore', 'NPDID discovery', 'NPDID field', 'Publication date', 'Release date', 'NPDID production licence drilled in', 'NPDID production licence target', 'NPDID drilling facility', 'NPDID production facility', 'NPDID wellbore reclassified from', 'Date main level updated', 'Date all updated', 'Date sync NPD']\n"
     ]
    }
   ],
   "source": [
    "# Download the latest NPD well headers in Excel format\n",
    "# Assign to two dataframes, one for Exploraion wells and one for Development wells\n",
    "df_explo = pd.read_excel('https://factpages.npd.no/ReportServer_npdpublic?/FactPages/TableView/wellbore_exploration_all&rs:Command=Render&rc:Toolbar=false&rc:Parameters=f&rs:Format=EXCEL&Top100=false&IpAddress=108.171.128.169&CultureCode=en', \n",
    "                         sheet_name='wellbore_exploration_all')\n",
    "\n",
    "# #Old link was http://factpages.npd.no/ReportServer?/FactPages/TableView/wellbore_exploration_all&rs:Command=Render&rc:Toolbar=false&rc:Parameters=f&rs:Format=EXCEL&Top100=false&IpAddress=108.171.128.189&CultureCode=en\n",
    "                    \n",
    "df_dev = pd.read_excel('https://factpages.npd.no/ReportServer_npdpublic?/FactPages/TableView/wellbore_development_all&rs:Command=Render&rc:Toolbar=false&rc:Parameters=f&rs:Format=EXCEL&Top100=false&IpAddress=108.171.128.169&CultureCode=en', \n",
    "                       sheet_name='wellbore_development_all')\n",
    "\n",
    "#Old link was http://factpages.npd.no/ReportServer?/FactPages/TableView/wellbore_development_all&rs:Command=Render&rc:Toolbar=false&rc:Parameters=f&rs:Format=EXCEL&Top100=false&IpAddress=108.171.128.189&CultureCode=en\n",
    "\n",
    "#Alternatively, download the files yourself and upload to the 'input data' folder\n",
    "#Navigate to NPD Factpages > Wellbore > Table View > Exploration/Development > All - Long List> Export Excel.\n",
    "#df_explo = pd.read_excel('input data/wellbore_exploration_all.xls', sheet_name='wellbore_exploration_all')\n",
    "#df_dev = pd.read_excel('input data/wellbore_development_all.xls', sheet_name='wellbore_development_all')\n",
    "\n",
    "# Change Pandas display settings to show all columns\n",
    "pd.set_option('display.max_columns', None)  \n",
    "pd.set_option('display.expand_frame_repr', False)\n",
    "pd.set_option('max_colwidth', None)\n",
    "#pd.set_option('display.max_rows', 500)\n",
    "\n",
    "# Print the original column titles in each dataframe.\n",
    "print(\"\\nExploration well header column titles:\")\n",
    "print(list(df_explo.columns))\n",
    "print(\"\\nDevelopment well header column titles:\")\n",
    "print(list(df_dev.columns))\n",
    "\n",
    "# This will take a minute to download and process the two files. Ignore file size warnings."
   ]
  },
  {
   "cell_type": "code",
   "execution_count": null,
   "metadata": {},
   "outputs": [],
   "source": []
  }
 ],
 "metadata": {
  "kernelspec": {
   "display_name": "Python 3",
   "language": "python",
   "name": "python3"
  },
  "language_info": {
   "codemirror_mode": {
    "name": "ipython",
    "version": 3
   },
   "file_extension": ".py",
   "mimetype": "text/x-python",
   "name": "python",
   "nbconvert_exporter": "python",
   "pygments_lexer": "ipython3",
   "version": "3.6.5"
  }
 },
 "nbformat": 4,
 "nbformat_minor": 2
}
