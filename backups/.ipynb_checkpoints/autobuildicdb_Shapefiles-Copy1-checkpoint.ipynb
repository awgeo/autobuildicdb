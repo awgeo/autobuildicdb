{
 "cells": [
  {
   "cell_type": "code",
   "execution_count": 15,
   "metadata": {},
   "outputs": [],
   "source": [
    "import numpy as np\n",
    "import pandas as pd\n",
    "from pandas import ExcelFile\n",
    "from pandas import ExcelWriter\n",
    "import requests, zipfile, io\n",
    "import pyodbc\n",
    "import sqlalchemy\n",
    "from sqlalchemy import create_engine, MetaData, Table, Column, delete, insert, select, func, sql\n",
    "from sqlalchemy.types import SmallInteger, Integer, String, Float, NVARCHAR\n",
    "from datetime import datetime\n",
    "import pprint\n",
    "import urllib\n",
    "import urllib.request\n",
    "import copy"
   ]
  },
  {
   "cell_type": "code",
   "execution_count": 26,
   "metadata": {},
   "outputs": [],
   "source": [
    "dbfolder = 'C:\\ICData\\Test42\\Shapefiles\\\\'\n",
    "# Shapefiles folder will be created within dbfolder"
   ]
  },
  {
   "cell_type": "markdown",
   "metadata": {},
   "source": [
    "# Download and unzip NPD Shapefiles"
   ]
  },
  {
   "cell_type": "code",
   "execution_count": 17,
   "metadata": {},
   "outputs": [
    {
     "name": "stdout",
     "output_type": "stream",
     "text": [
      "https://factpages.npd.no/downloads/shape/afxAreaCurrent.zip\n",
      "https://factpages.npd.no/downloads/shape/afxAreaSplitByBlock.zip\n",
      "https://factpages.npd.no/downloads/shape/prlAreaCurrent.zip\n",
      "https://factpages.npd.no/downloads/shape/prlAreaSplitByBlock.zip\n",
      "https://factpages.npd.no/downloads/shape/apaAreaGross.zip\n",
      "https://factpages.npd.no/downloads/shape/apaAreaNet.zip\n",
      "https://factpages.npd.no/downloads/shape/wlbPoint.zip\n",
      "https://factpages.npd.no/downloads/shape/baaAreaCurrent.zip\n",
      "https://factpages.npd.no/downloads/shape/baaAreaSplitByBlock.zip\n",
      "https://factpages.npd.no/downloads/shape/fldArea.zip\n",
      "https://factpages.npd.no/downloads/shape/dscArea.zip\n",
      "https://factpages.npd.no/downloads/shape/fclPoint.zip\n",
      "https://factpages.npd.no/downloads/shape/seaArea.zip\n",
      "https://factpages.npd.no/downloads/shape/pipLine.zip\n",
      "https://factpages.npd.no/downloads/shape/blkArea.zip\n",
      "https://factpages.npd.no/downloads/shape/qadArea.zip\n",
      "https://factpages.npd.no/downloads/shape/subArea.zip\n"
     ]
    }
   ],
   "source": [
    "# NPD shapefiles at https://www.npd.no/en/about-us/information-services/available-data/map-services/\n",
    "\n",
    "npd_shapefiles = {\n",
    "    'AFEX': 'https://factpages.npd.no/downloads/shape/afxAreaCurrent.zip',\n",
    "    'AFEX_block': 'https://factpages.npd.no/downloads/shape/afxAreaSplitByBlock.zip',\n",
    "    'Licence': 'https://factpages.npd.no/downloads/shape/prlAreaCurrent.zip',\n",
    "    'Licence_block': 'https://factpages.npd.no/downloads/shape/prlAreaSplitByBlock.zip',\n",
    "    'Licencing APA': 'https://factpages.npd.no/downloads/shape/apaAreaGross.zip',\n",
    "    'Licencing APA_block': 'https://factpages.npd.no/downloads/shape/apaAreaNet.zip',\n",
    "    'Wellbore': 'https://factpages.npd.no/downloads/shape/wlbPoint.zip',\n",
    "    #Ignore Wellbore - Fontfile for presentation TTF\n",
    "    'BAA': 'https://factpages.npd.no/downloads/shape/baaAreaCurrent.zip',\n",
    "    'BAA_block': 'https://factpages.npd.no/downloads/shape/baaAreaSplitByBlock.zip',\n",
    "    'Field': 'https://factpages.npd.no/downloads/shape/fldArea.zip',\n",
    "    'Discovery': 'https://factpages.npd.no/downloads/shape/dscArea.zip',\n",
    "    'Facility': 'https://factpages.npd.no/downloads/shape/fclPoint.zip',\n",
    "    'Survey': 'https://factpages.npd.no/downloads/shape/seaArea.zip',\n",
    "    'TUF': 'https://factpages.npd.no/downloads/shape/pipLine.zip',\n",
    "    'Block': 'https://factpages.npd.no/downloads/shape/blkArea.zip',\n",
    "    'Quadrant': 'https://factpages.npd.no/downloads/shape/qadArea.zip',\n",
    "    'Sub area': 'https://factpages.npd.no/downloads/shape/subArea.zip'\n",
    "}\n",
    "for key, value in npd_shapefiles.items(): \n",
    "    print(value)"
   ]
  },
  {
   "cell_type": "code",
   "execution_count": 18,
   "metadata": {},
   "outputs": [
    {
     "name": "stdout",
     "output_type": "stream",
     "text": [
      "Beginning file download with requests:  https://factpages.npd.no/downloads/shape/afxAreaCurrent.zip\n"
     ]
    },
    {
     "name": "stderr",
     "output_type": "stream",
     "text": [
      "C:\\Users\\LBHAWZ\\AppData\\Local\\Continuum\\anaconda3\\lib\\site-packages\\urllib3\\connectionpool.py:858: InsecureRequestWarning: Unverified HTTPS request is being made. Adding certificate verification is strongly advised. See: https://urllib3.readthedocs.io/en/latest/advanced-usage.html#ssl-warnings\n",
      "  InsecureRequestWarning)\n"
     ]
    },
    {
     "name": "stdout",
     "output_type": "stream",
     "text": [
      "Files extracted to: C:\\ICData\\Test42\\Shapefiles2\\\n",
      "Beginning file download with requests:  https://factpages.npd.no/downloads/shape/afxAreaSplitByBlock.zip\n"
     ]
    },
    {
     "name": "stderr",
     "output_type": "stream",
     "text": [
      "C:\\Users\\LBHAWZ\\AppData\\Local\\Continuum\\anaconda3\\lib\\site-packages\\urllib3\\connectionpool.py:858: InsecureRequestWarning: Unverified HTTPS request is being made. Adding certificate verification is strongly advised. See: https://urllib3.readthedocs.io/en/latest/advanced-usage.html#ssl-warnings\n",
      "  InsecureRequestWarning)\n"
     ]
    },
    {
     "name": "stdout",
     "output_type": "stream",
     "text": [
      "Files extracted to: C:\\ICData\\Test42\\Shapefiles2\\\n",
      "Beginning file download with requests:  https://factpages.npd.no/downloads/shape/prlAreaCurrent.zip\n"
     ]
    },
    {
     "name": "stderr",
     "output_type": "stream",
     "text": [
      "C:\\Users\\LBHAWZ\\AppData\\Local\\Continuum\\anaconda3\\lib\\site-packages\\urllib3\\connectionpool.py:858: InsecureRequestWarning: Unverified HTTPS request is being made. Adding certificate verification is strongly advised. See: https://urllib3.readthedocs.io/en/latest/advanced-usage.html#ssl-warnings\n",
      "  InsecureRequestWarning)\n"
     ]
    },
    {
     "name": "stdout",
     "output_type": "stream",
     "text": [
      "Files extracted to: C:\\ICData\\Test42\\Shapefiles2\\\n",
      "Beginning file download with requests:  https://factpages.npd.no/downloads/shape/prlAreaSplitByBlock.zip\n"
     ]
    },
    {
     "name": "stderr",
     "output_type": "stream",
     "text": [
      "C:\\Users\\LBHAWZ\\AppData\\Local\\Continuum\\anaconda3\\lib\\site-packages\\urllib3\\connectionpool.py:858: InsecureRequestWarning: Unverified HTTPS request is being made. Adding certificate verification is strongly advised. See: https://urllib3.readthedocs.io/en/latest/advanced-usage.html#ssl-warnings\n",
      "  InsecureRequestWarning)\n"
     ]
    },
    {
     "name": "stdout",
     "output_type": "stream",
     "text": [
      "Files extracted to: C:\\ICData\\Test42\\Shapefiles2\\\n",
      "Beginning file download with requests:  https://factpages.npd.no/downloads/shape/apaAreaGross.zip\n"
     ]
    },
    {
     "name": "stderr",
     "output_type": "stream",
     "text": [
      "C:\\Users\\LBHAWZ\\AppData\\Local\\Continuum\\anaconda3\\lib\\site-packages\\urllib3\\connectionpool.py:858: InsecureRequestWarning: Unverified HTTPS request is being made. Adding certificate verification is strongly advised. See: https://urllib3.readthedocs.io/en/latest/advanced-usage.html#ssl-warnings\n",
      "  InsecureRequestWarning)\n"
     ]
    },
    {
     "name": "stdout",
     "output_type": "stream",
     "text": [
      "Files extracted to: C:\\ICData\\Test42\\Shapefiles2\\\n",
      "Beginning file download with requests:  https://factpages.npd.no/downloads/shape/apaAreaNet.zip\n"
     ]
    },
    {
     "name": "stderr",
     "output_type": "stream",
     "text": [
      "C:\\Users\\LBHAWZ\\AppData\\Local\\Continuum\\anaconda3\\lib\\site-packages\\urllib3\\connectionpool.py:858: InsecureRequestWarning: Unverified HTTPS request is being made. Adding certificate verification is strongly advised. See: https://urllib3.readthedocs.io/en/latest/advanced-usage.html#ssl-warnings\n",
      "  InsecureRequestWarning)\n"
     ]
    },
    {
     "name": "stdout",
     "output_type": "stream",
     "text": [
      "Files extracted to: C:\\ICData\\Test42\\Shapefiles2\\\n",
      "Beginning file download with requests:  https://factpages.npd.no/downloads/shape/wlbPoint.zip\n"
     ]
    },
    {
     "name": "stderr",
     "output_type": "stream",
     "text": [
      "C:\\Users\\LBHAWZ\\AppData\\Local\\Continuum\\anaconda3\\lib\\site-packages\\urllib3\\connectionpool.py:858: InsecureRequestWarning: Unverified HTTPS request is being made. Adding certificate verification is strongly advised. See: https://urllib3.readthedocs.io/en/latest/advanced-usage.html#ssl-warnings\n",
      "  InsecureRequestWarning)\n"
     ]
    },
    {
     "name": "stdout",
     "output_type": "stream",
     "text": [
      "Files extracted to: C:\\ICData\\Test42\\Shapefiles2\\\n",
      "Beginning file download with requests:  https://factpages.npd.no/downloads/shape/baaAreaCurrent.zip\n"
     ]
    },
    {
     "name": "stderr",
     "output_type": "stream",
     "text": [
      "C:\\Users\\LBHAWZ\\AppData\\Local\\Continuum\\anaconda3\\lib\\site-packages\\urllib3\\connectionpool.py:858: InsecureRequestWarning: Unverified HTTPS request is being made. Adding certificate verification is strongly advised. See: https://urllib3.readthedocs.io/en/latest/advanced-usage.html#ssl-warnings\n",
      "  InsecureRequestWarning)\n"
     ]
    },
    {
     "name": "stdout",
     "output_type": "stream",
     "text": [
      "Files extracted to: C:\\ICData\\Test42\\Shapefiles2\\\n",
      "Beginning file download with requests:  https://factpages.npd.no/downloads/shape/baaAreaSplitByBlock.zip\n"
     ]
    },
    {
     "name": "stderr",
     "output_type": "stream",
     "text": [
      "C:\\Users\\LBHAWZ\\AppData\\Local\\Continuum\\anaconda3\\lib\\site-packages\\urllib3\\connectionpool.py:858: InsecureRequestWarning: Unverified HTTPS request is being made. Adding certificate verification is strongly advised. See: https://urllib3.readthedocs.io/en/latest/advanced-usage.html#ssl-warnings\n",
      "  InsecureRequestWarning)\n"
     ]
    },
    {
     "name": "stdout",
     "output_type": "stream",
     "text": [
      "Files extracted to: C:\\ICData\\Test42\\Shapefiles2\\\n",
      "Beginning file download with requests:  https://factpages.npd.no/downloads/shape/fldArea.zip\n"
     ]
    },
    {
     "name": "stderr",
     "output_type": "stream",
     "text": [
      "C:\\Users\\LBHAWZ\\AppData\\Local\\Continuum\\anaconda3\\lib\\site-packages\\urllib3\\connectionpool.py:858: InsecureRequestWarning: Unverified HTTPS request is being made. Adding certificate verification is strongly advised. See: https://urllib3.readthedocs.io/en/latest/advanced-usage.html#ssl-warnings\n",
      "  InsecureRequestWarning)\n"
     ]
    },
    {
     "name": "stdout",
     "output_type": "stream",
     "text": [
      "Files extracted to: C:\\ICData\\Test42\\Shapefiles2\\\n",
      "Beginning file download with requests:  https://factpages.npd.no/downloads/shape/dscArea.zip\n"
     ]
    },
    {
     "name": "stderr",
     "output_type": "stream",
     "text": [
      "C:\\Users\\LBHAWZ\\AppData\\Local\\Continuum\\anaconda3\\lib\\site-packages\\urllib3\\connectionpool.py:858: InsecureRequestWarning: Unverified HTTPS request is being made. Adding certificate verification is strongly advised. See: https://urllib3.readthedocs.io/en/latest/advanced-usage.html#ssl-warnings\n",
      "  InsecureRequestWarning)\n"
     ]
    },
    {
     "name": "stdout",
     "output_type": "stream",
     "text": [
      "Files extracted to: C:\\ICData\\Test42\\Shapefiles2\\\n",
      "Beginning file download with requests:  https://factpages.npd.no/downloads/shape/fclPoint.zip\n"
     ]
    },
    {
     "name": "stderr",
     "output_type": "stream",
     "text": [
      "C:\\Users\\LBHAWZ\\AppData\\Local\\Continuum\\anaconda3\\lib\\site-packages\\urllib3\\connectionpool.py:858: InsecureRequestWarning: Unverified HTTPS request is being made. Adding certificate verification is strongly advised. See: https://urllib3.readthedocs.io/en/latest/advanced-usage.html#ssl-warnings\n",
      "  InsecureRequestWarning)\n"
     ]
    },
    {
     "name": "stdout",
     "output_type": "stream",
     "text": [
      "Files extracted to: C:\\ICData\\Test42\\Shapefiles2\\\n",
      "Beginning file download with requests:  https://factpages.npd.no/downloads/shape/seaArea.zip\n"
     ]
    },
    {
     "name": "stderr",
     "output_type": "stream",
     "text": [
      "C:\\Users\\LBHAWZ\\AppData\\Local\\Continuum\\anaconda3\\lib\\site-packages\\urllib3\\connectionpool.py:858: InsecureRequestWarning: Unverified HTTPS request is being made. Adding certificate verification is strongly advised. See: https://urllib3.readthedocs.io/en/latest/advanced-usage.html#ssl-warnings\n",
      "  InsecureRequestWarning)\n"
     ]
    },
    {
     "name": "stdout",
     "output_type": "stream",
     "text": [
      "Files extracted to: C:\\ICData\\Test42\\Shapefiles2\\\n",
      "Beginning file download with requests:  https://factpages.npd.no/downloads/shape/pipLine.zip\n"
     ]
    },
    {
     "name": "stderr",
     "output_type": "stream",
     "text": [
      "C:\\Users\\LBHAWZ\\AppData\\Local\\Continuum\\anaconda3\\lib\\site-packages\\urllib3\\connectionpool.py:858: InsecureRequestWarning: Unverified HTTPS request is being made. Adding certificate verification is strongly advised. See: https://urllib3.readthedocs.io/en/latest/advanced-usage.html#ssl-warnings\n",
      "  InsecureRequestWarning)\n"
     ]
    },
    {
     "name": "stdout",
     "output_type": "stream",
     "text": [
      "Files extracted to: C:\\ICData\\Test42\\Shapefiles2\\\n",
      "Beginning file download with requests:  https://factpages.npd.no/downloads/shape/blkArea.zip\n"
     ]
    },
    {
     "name": "stderr",
     "output_type": "stream",
     "text": [
      "C:\\Users\\LBHAWZ\\AppData\\Local\\Continuum\\anaconda3\\lib\\site-packages\\urllib3\\connectionpool.py:858: InsecureRequestWarning: Unverified HTTPS request is being made. Adding certificate verification is strongly advised. See: https://urllib3.readthedocs.io/en/latest/advanced-usage.html#ssl-warnings\n",
      "  InsecureRequestWarning)\n"
     ]
    },
    {
     "name": "stdout",
     "output_type": "stream",
     "text": [
      "Files extracted to: C:\\ICData\\Test42\\Shapefiles2\\\n",
      "Beginning file download with requests:  https://factpages.npd.no/downloads/shape/qadArea.zip\n"
     ]
    },
    {
     "name": "stderr",
     "output_type": "stream",
     "text": [
      "C:\\Users\\LBHAWZ\\AppData\\Local\\Continuum\\anaconda3\\lib\\site-packages\\urllib3\\connectionpool.py:858: InsecureRequestWarning: Unverified HTTPS request is being made. Adding certificate verification is strongly advised. See: https://urllib3.readthedocs.io/en/latest/advanced-usage.html#ssl-warnings\n",
      "  InsecureRequestWarning)\n"
     ]
    },
    {
     "name": "stdout",
     "output_type": "stream",
     "text": [
      "Files extracted to: C:\\ICData\\Test42\\Shapefiles2\\\n",
      "Beginning file download with requests:  https://factpages.npd.no/downloads/shape/subArea.zip\n"
     ]
    },
    {
     "name": "stderr",
     "output_type": "stream",
     "text": [
      "C:\\Users\\LBHAWZ\\AppData\\Local\\Continuum\\anaconda3\\lib\\site-packages\\urllib3\\connectionpool.py:858: InsecureRequestWarning: Unverified HTTPS request is being made. Adding certificate verification is strongly advised. See: https://urllib3.readthedocs.io/en/latest/advanced-usage.html#ssl-warnings\n",
      "  InsecureRequestWarning)\n"
     ]
    },
    {
     "name": "stdout",
     "output_type": "stream",
     "text": [
      "Files extracted to: C:\\ICData\\Test42\\Shapefiles2\\\n"
     ]
    }
   ],
   "source": [
    "# https://factpages.npd.no/downloads/shape/afxAreaCurrent.zip\n",
    "# See https://stackoverflow.com/questions/9419162/download-returned-zip-file-from-url\n",
    "\n",
    "def save_shapefiles():\n",
    "    \n",
    "    for key, value in npd_shapefiles.items(): \n",
    "        \n",
    "        filepath = '{}Shapefiles2\\\\'.format(dbfolder)\n",
    "        zip_file_url = value\n",
    "\n",
    "        print('Beginning file download with requests: ', zip_file_url)\n",
    "        r = requests.get(zip_file_url, verify=False)\n",
    "        # See https://urllib3.readthedocs.io/en/latest/advanced-usage.html#ssl-warnings\n",
    "\n",
    "        z = zipfile.ZipFile(io.BytesIO(r.content))\n",
    "        z.extractall(filepath)\n",
    "\n",
    "        print('Files extracted to: {}'.format(filepath))\n",
    "        \n",
    "save_shapefiles()"
   ]
  },
  {
   "cell_type": "code",
   "execution_count": 53,
   "metadata": {},
   "outputs": [
    {
     "name": "stdout",
     "output_type": "stream",
     "text": [
      "['afxAreaCurrent.shp', 'afxAreaSplitByBlock.shp', 'apaAreaGross.shp', 'apaAreaNet.shp', 'baaAreaCurrent.shp', 'baaAreaSplitByBlock.shp', 'blkArea.shp', 'dscArea.shp', 'fclPoint.shp', 'fldArea.shp', 'pipLine.shp', 'prlAreaCurrent.shp', 'prlAreaSplitByBlock.shp', 'qadArea.shp', 'seaArea.shp', 'subArea.shp', 'wlbPoint.shp']\n"
     ]
    }
   ],
   "source": [
    "from os import walk\n",
    "\n",
    "lst_shapefiles = []\n",
    "for (dirpath, dirnames, filenames) in walk(dbfolder):\n",
    "    lst_shapefiles.extend(filenames)\n",
    "    \n",
    "#print(lst_shapefiles)\n",
    "\n",
    "lst_shp = [i for i in lst_shapefiles if '.shp' in i and '.xml' not in i]\n",
    "print(lst_shp"
   ]
  },
  {
   "cell_type": "code",
   "execution_count": null,
   "metadata": {},
   "outputs": [],
   "source": []
  },
  {
   "cell_type": "code",
   "execution_count": null,
   "metadata": {},
   "outputs": [],
   "source": [
    "# Names for IC\n",
    "\n",
    "Areas with planned survey after 1.1. 2009. The dataset contains both gross (included turn area for the boat) and net (acquisition area) for seismic, electromagnetic, site and basement surveys."
   ]
  },
  {
   "cell_type": "code",
   "execution_count": null,
   "metadata": {},
   "outputs": [],
   "source": [
    "'shapefile_descriptions_full' = {\n",
    "    'AFEX': 'Current areas fee with area fee excemption.'\n",
    "    'AFEX': 'Current areas fee with area excemption split by block.'\n",
    "    'Licence': 'Current production licence areas, “active” with overall geometry, “inactive” without geometry. Overall geometry means a dissolved polygon including both stratigraphical and non- stratigraphical areas.'\n",
    "    'Licence': 'Complete area history split by block. “Active” licence areas can be found by querying “dtValTo” = NULL'\n",
    "    'Licencing APA': 'Updated APA (Awards in predefined areas) gross areas.'\n",
    "    'Licencing APA': 'APA (Awards in predefined areas) net areas.'\n",
    "    'Wellbore': 'Exploration, development and shallow wellbores.'\n",
    "    'Wellbore': 'Fontfile for presentation.'\n",
    "    'BAA': 'Business arrangement areas.'\n",
    "    'BAA': 'Business arrangement areas. Complete history for each area split by block.'\n",
    "    'Field': 'Field outlines.'\n",
    "    'Discovery': 'Discovery outlines - including field outlines.'\n",
    "    'Facility': 'Fixed facilities, floating production facilities and main facilities onshore.'\n",
    "    'Survey': 'Areas with planned survey after 1.1. 2009. The dataset contains both gross (included turn area for the boat) and net (acquisition area) for seismic, electromagnetic, site and basement surveys.'\n",
    "    'TUF': 'Main piplelines. The dataset contains not infield pipelines.'\n",
    "    'Block': 'All blocks on the Norwegian continental shelf.'\n",
    "    'Quadrant': 'All quadrants on the Norwegian continental shelf.'\n",
    "    'Sub area': 'All sub-areas on the Norwegian continental shelf.'\n",
    "}"
   ]
  },
  {
   "cell_type": "code",
   "execution_count": null,
   "metadata": {},
   "outputs": [],
   "source": []
  },
  {
   "cell_type": "code",
   "execution_count": null,
   "metadata": {},
   "outputs": [],
   "source": []
  },
  {
   "cell_type": "code",
   "execution_count": null,
   "metadata": {},
   "outputs": [],
   "source": []
  },
  {
   "cell_type": "code",
   "execution_count": null,
   "metadata": {},
   "outputs": [],
   "source": []
  },
  {
   "cell_type": "code",
   "execution_count": null,
   "metadata": {},
   "outputs": [],
   "source": []
  },
  {
   "cell_type": "markdown",
   "metadata": {},
   "source": [
    "# Import shapefiles to IC"
   ]
  },
  {
   "cell_type": "code",
   "execution_count": null,
   "metadata": {},
   "outputs": [],
   "source": [
    "# Import data to IC myself, prepare all formatting then generate 'INSERT INTO' script from dbo.SHAPEDATA\n",
    "# See https://stackoverflow.com/questions/4526461/converting-select-results-into-insert-script-sql-server\n",
    "\n",
    "# Populate colours, e.g. Fields and Discoveries with OGW colours?"
   ]
  },
  {
   "cell_type": "code",
   "execution_count": null,
   "metadata": {},
   "outputs": [],
   "source": [
    "# Populate SHAPEDATA\n",
    "# Populate T_GISFOLDERS"
   ]
  },
  {
   "cell_type": "code",
   "execution_count": null,
   "metadata": {},
   "outputs": [],
   "source": []
  },
  {
   "cell_type": "code",
   "execution_count": null,
   "metadata": {},
   "outputs": [],
   "source": []
  },
  {
   "cell_type": "code",
   "execution_count": null,
   "metadata": {},
   "outputs": [],
   "source": []
  },
  {
   "cell_type": "code",
   "execution_count": null,
   "metadata": {},
   "outputs": [],
   "source": []
  }
 ],
 "metadata": {
  "kernelspec": {
   "display_name": "Python 3",
   "language": "python",
   "name": "python3"
  },
  "language_info": {
   "codemirror_mode": {
    "name": "ipython",
    "version": 3
   },
   "file_extension": ".py",
   "mimetype": "text/x-python",
   "name": "python",
   "nbconvert_exporter": "python",
   "pygments_lexer": "ipython3",
   "version": "3.6.5"
  },
  "toc": {
   "base_numbering": 1,
   "nav_menu": {},
   "number_sections": true,
   "sideBar": true,
   "skip_h1_title": false,
   "title_cell": "Table of Contents",
   "title_sidebar": "Contents",
   "toc_cell": false,
   "toc_position": {},
   "toc_section_display": true,
   "toc_window_display": false
  },
  "varInspector": {
   "cols": {
    "lenName": 16,
    "lenType": 16,
    "lenVar": 40
   },
   "kernels_config": {
    "python": {
     "delete_cmd_postfix": "",
     "delete_cmd_prefix": "del ",
     "library": "var_list.py",
     "varRefreshCmd": "print(var_dic_list())"
    },
    "r": {
     "delete_cmd_postfix": ") ",
     "delete_cmd_prefix": "rm(",
     "library": "var_list.r",
     "varRefreshCmd": "cat(var_dic_list()) "
    }
   },
   "types_to_exclude": [
    "module",
    "function",
    "builtin_function_or_method",
    "instance",
    "_Feature"
   ],
   "window_display": false
  }
 },
 "nbformat": 4,
 "nbformat_minor": 2
}
